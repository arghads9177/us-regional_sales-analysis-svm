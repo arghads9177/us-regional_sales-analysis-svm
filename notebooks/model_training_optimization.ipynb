{
 "cells": [
  {
   "cell_type": "markdown",
   "id": "184ac57a-2600-4b40-82b4-3a76886d0905",
   "metadata": {},
   "source": [
    "# US Regional Sales Data Analysis and Prediction\n",
    "\n",
    "## Project Overview\n",
    "\n",
    "This project focuses on analyzing and predicting sales performance across different regions in the US, based on a comprehensive dataset containing information on various sales channels such as In-Store, Online, Distributor, and Wholesale. With 7,991 rows and 16 columns, the dataset provides insights into sales transactions, customer interactions, and product performance, enabling detailed analysis of sales patterns and trends. The goal of this project is to uncover meaningful insights from the data and build predictive models to forecast prices and optimize sales strategies.\n",
    "\n",
    "## Source\n",
    "\n",
    "This dataset is available on Kaggle in the following link:\n",
    "\n",
    "> https://www.kaggle.com/datasets/talhabu/us-regional-sales-data/data\n",
    "\n",
    "## Data Dictionary\n",
    "\n",
    "The dataset includes detailed information on sales orders, customer interactions, and pricing. Below is a breakdown of the columns in the dataset:\n",
    "\n",
    "- **OrderNumber**: A unique identifier for each order.\n",
    "- **Sales Channel**: The channel through which the sale was made (In-Store, Online, Distributor, Wholesale).\n",
    "- **WarehouseCode**: Code representing the warehouse involved in the order.\n",
    "- **ProcuredDate**: Date when the products were procured.\n",
    "- **OrderDate**: Date when the order was placed.\n",
    "- **ShipDate**: Date when the order was shipped.\n",
    "- **DeliveryDate**: Date when the order was delivered.\n",
    "- **SalesTeamID**: Identifier for the sales team involved.\n",
    "- **CustomerID**: Identifier for the customer.\n",
    "- **StoreID**: Identifier for the store.\n",
    "- **ProductID**: Identifier for the product.\n",
    "- **Order Quantity**: Quantity of products ordered.\n",
    "- **Discount Applied**: Applied discount for the order.\n",
    "- **Unit Cost**: Cost of a single unit of the product.\n",
    "- **Unit Price**: Price at which the product was sold.\n",
    "\n",
    "This dataset serves as a valuable resource for analyzing sales trends, identifying high-performing products, assessing the effectiveness of different sales channels, and optimizing pricing strategies across various regions.\n",
    "\n",
    "## Problem Statement\n",
    "\n",
    "### Data Modelling and Machine Learning Ideas (Price Prediction)\n",
    "\n",
    "1. **XGBoost Regression**: Use an XGBoost regression model to predict the price, incorporating multiple features and their interactions.\n",
    "\n",
    "These visualizations and models will provide valuable insights into sales patterns and help optimize pricing strategies to improve overall sales performance.\n",
    "\n",
    "\n"
   ]
  },
  {
   "cell_type": "markdown",
   "id": "3172dde1-149f-49b6-9c2c-7c1f271ecf13",
   "metadata": {},
   "source": [
    "### Load Libraries"
   ]
  },
  {
   "cell_type": "code",
   "execution_count": 1,
   "id": "39d43f8b-127c-4286-8579-30f910b6cd46",
   "metadata": {},
   "outputs": [],
   "source": [
    "# General\n",
    "import pandas as pd\n",
    "import numpy as np\n",
    "import os\n",
    "import warnings\n",
    "import pickle\n",
    "\n",
    "# Preprocessing\n",
    "from sklearn.preprocessing import StandardScaler\n",
    "from sklearn.model_selection import train_test_split\n",
    "\n",
    "# Model and Evaluation Metrics\n",
    "from sklearn.svm import SVR\n",
    "from sklearn.metrics import r2_score, mean_absolute_error, mean_squared_error\n",
    "\n",
    "# Model Optimization\n",
    "from sklearn.model_selection import KFold\n",
    "from sklearn.model_selection import cross_val_score\n",
    "from sklearn.model_selection import GridSearchCV"
   ]
  },
  {
   "cell_type": "markdown",
   "id": "883575e5-1449-4199-994b-16589826973e",
   "metadata": {},
   "source": [
    "### Settings"
   ]
  },
  {
   "cell_type": "code",
   "execution_count": 2,
   "id": "3a784cef-4cd9-4eb0-a535-53162d0e8944",
   "metadata": {},
   "outputs": [],
   "source": [
    "# Warning\n",
    "warnings.filterwarnings(\"ignore\")\n",
    "# Path\n",
    "data_path = \"../data\"\n",
    "model_path = \"../models\"\n",
    "csv_path = os.path.join(data_path, \"US_Regional_Sales_Data_Cleaned.csv\")"
   ]
  },
  {
   "cell_type": "markdown",
   "id": "e61266cb-5ecb-42ee-bb7c-10b215cfda29",
   "metadata": {},
   "source": [
    "### Load Data"
   ]
  },
  {
   "cell_type": "code",
   "execution_count": 3,
   "id": "bea7b004-36ca-4157-8a6b-4339e7c232dc",
   "metadata": {},
   "outputs": [],
   "source": [
    "df = pd.read_csv(csv_path)"
   ]
  },
  {
   "cell_type": "code",
   "execution_count": 4,
   "id": "4cb7343d-2a41-4bab-9bfb-3bbfd04e7ef7",
   "metadata": {},
   "outputs": [
    {
     "data": {
      "text/html": [
       "<div>\n",
       "<style scoped>\n",
       "    .dataframe tbody tr th:only-of-type {\n",
       "        vertical-align: middle;\n",
       "    }\n",
       "\n",
       "    .dataframe tbody tr th {\n",
       "        vertical-align: top;\n",
       "    }\n",
       "\n",
       "    .dataframe thead th {\n",
       "        text-align: right;\n",
       "    }\n",
       "</style>\n",
       "<table border=\"1\" class=\"dataframe\">\n",
       "  <thead>\n",
       "    <tr style=\"text-align: right;\">\n",
       "      <th></th>\n",
       "      <th>Sales Channel</th>\n",
       "      <th>Order Quantity</th>\n",
       "      <th>Discount Applied</th>\n",
       "      <th>Unit Cost</th>\n",
       "      <th>Unit Price</th>\n",
       "      <th>DeliveryDays</th>\n",
       "    </tr>\n",
       "  </thead>\n",
       "  <tbody>\n",
       "    <tr>\n",
       "      <th>0</th>\n",
       "      <td>In-Store</td>\n",
       "      <td>5</td>\n",
       "      <td>0.075</td>\n",
       "      <td>1001.18</td>\n",
       "      <td>1963.1</td>\n",
       "      <td>5</td>\n",
       "    </tr>\n",
       "    <tr>\n",
       "      <th>1</th>\n",
       "      <td>Online</td>\n",
       "      <td>3</td>\n",
       "      <td>0.075</td>\n",
       "      <td>3348.66</td>\n",
       "      <td>3939.6</td>\n",
       "      <td>0</td>\n",
       "    </tr>\n",
       "    <tr>\n",
       "      <th>2</th>\n",
       "      <td>Distributor</td>\n",
       "      <td>1</td>\n",
       "      <td>0.050</td>\n",
       "      <td>781.22</td>\n",
       "      <td>1775.5</td>\n",
       "      <td>0</td>\n",
       "    </tr>\n",
       "    <tr>\n",
       "      <th>3</th>\n",
       "      <td>Wholesale</td>\n",
       "      <td>8</td>\n",
       "      <td>0.075</td>\n",
       "      <td>1464.69</td>\n",
       "      <td>2324.9</td>\n",
       "      <td>150</td>\n",
       "    </tr>\n",
       "    <tr>\n",
       "      <th>4</th>\n",
       "      <td>Distributor</td>\n",
       "      <td>8</td>\n",
       "      <td>0.100</td>\n",
       "      <td>1476.14</td>\n",
       "      <td>1822.4</td>\n",
       "      <td>10</td>\n",
       "    </tr>\n",
       "  </tbody>\n",
       "</table>\n",
       "</div>"
      ],
      "text/plain": [
       "  Sales Channel  Order Quantity  Discount Applied  Unit Cost  Unit Price  \\\n",
       "0      In-Store               5             0.075    1001.18      1963.1   \n",
       "1        Online               3             0.075    3348.66      3939.6   \n",
       "2   Distributor               1             0.050     781.22      1775.5   \n",
       "3     Wholesale               8             0.075    1464.69      2324.9   \n",
       "4   Distributor               8             0.100    1476.14      1822.4   \n",
       "\n",
       "   DeliveryDays  \n",
       "0             5  \n",
       "1             0  \n",
       "2             0  \n",
       "3           150  \n",
       "4            10  "
      ]
     },
     "execution_count": 4,
     "metadata": {},
     "output_type": "execute_result"
    }
   ],
   "source": [
    "# Check Data\n",
    "df.head()"
   ]
  },
  {
   "cell_type": "markdown",
   "id": "3b39bed6-38b9-45a0-bc4c-f78d15bc457d",
   "metadata": {},
   "source": [
    "### Preproseccing\n",
    "\n",
    "- Encode the categorical features\n",
    "- Separate Input and output features for model traning\n",
    "- Split data into training and testing set so that model can be trained on training set and test the performance of the metrics with test data.\n",
    "- Scale the input data to standardize it as all numeric data are not in same scale."
   ]
  },
  {
   "cell_type": "code",
   "execution_count": 5,
   "id": "04114d5f-fa6a-465b-9c69-35973292977a",
   "metadata": {},
   "outputs": [
    {
     "data": {
      "text/html": [
       "<div>\n",
       "<style scoped>\n",
       "    .dataframe tbody tr th:only-of-type {\n",
       "        vertical-align: middle;\n",
       "    }\n",
       "\n",
       "    .dataframe tbody tr th {\n",
       "        vertical-align: top;\n",
       "    }\n",
       "\n",
       "    .dataframe thead th {\n",
       "        text-align: right;\n",
       "    }\n",
       "</style>\n",
       "<table border=\"1\" class=\"dataframe\">\n",
       "  <thead>\n",
       "    <tr style=\"text-align: right;\">\n",
       "      <th></th>\n",
       "      <th>Order Quantity</th>\n",
       "      <th>Discount Applied</th>\n",
       "      <th>Unit Cost</th>\n",
       "      <th>Unit Price</th>\n",
       "      <th>DeliveryDays</th>\n",
       "      <th>Sales Channel_In-Store</th>\n",
       "      <th>Sales Channel_Online</th>\n",
       "      <th>Sales Channel_Wholesale</th>\n",
       "    </tr>\n",
       "  </thead>\n",
       "  <tbody>\n",
       "    <tr>\n",
       "      <th>0</th>\n",
       "      <td>5</td>\n",
       "      <td>0.075</td>\n",
       "      <td>1001.18</td>\n",
       "      <td>1963.1</td>\n",
       "      <td>5</td>\n",
       "      <td>1</td>\n",
       "      <td>0</td>\n",
       "      <td>0</td>\n",
       "    </tr>\n",
       "    <tr>\n",
       "      <th>1</th>\n",
       "      <td>3</td>\n",
       "      <td>0.075</td>\n",
       "      <td>3348.66</td>\n",
       "      <td>3939.6</td>\n",
       "      <td>0</td>\n",
       "      <td>0</td>\n",
       "      <td>1</td>\n",
       "      <td>0</td>\n",
       "    </tr>\n",
       "    <tr>\n",
       "      <th>2</th>\n",
       "      <td>1</td>\n",
       "      <td>0.050</td>\n",
       "      <td>781.22</td>\n",
       "      <td>1775.5</td>\n",
       "      <td>0</td>\n",
       "      <td>0</td>\n",
       "      <td>0</td>\n",
       "      <td>0</td>\n",
       "    </tr>\n",
       "    <tr>\n",
       "      <th>3</th>\n",
       "      <td>8</td>\n",
       "      <td>0.075</td>\n",
       "      <td>1464.69</td>\n",
       "      <td>2324.9</td>\n",
       "      <td>150</td>\n",
       "      <td>0</td>\n",
       "      <td>0</td>\n",
       "      <td>1</td>\n",
       "    </tr>\n",
       "    <tr>\n",
       "      <th>4</th>\n",
       "      <td>8</td>\n",
       "      <td>0.100</td>\n",
       "      <td>1476.14</td>\n",
       "      <td>1822.4</td>\n",
       "      <td>10</td>\n",
       "      <td>0</td>\n",
       "      <td>0</td>\n",
       "      <td>0</td>\n",
       "    </tr>\n",
       "  </tbody>\n",
       "</table>\n",
       "</div>"
      ],
      "text/plain": [
       "   Order Quantity  Discount Applied  Unit Cost  Unit Price  DeliveryDays  \\\n",
       "0               5             0.075    1001.18      1963.1             5   \n",
       "1               3             0.075    3348.66      3939.6             0   \n",
       "2               1             0.050     781.22      1775.5             0   \n",
       "3               8             0.075    1464.69      2324.9           150   \n",
       "4               8             0.100    1476.14      1822.4            10   \n",
       "\n",
       "   Sales Channel_In-Store  Sales Channel_Online  Sales Channel_Wholesale  \n",
       "0                       1                     0                        0  \n",
       "1                       0                     1                        0  \n",
       "2                       0                     0                        0  \n",
       "3                       0                     0                        1  \n",
       "4                       0                     0                        0  "
      ]
     },
     "execution_count": 5,
     "metadata": {},
     "output_type": "execute_result"
    }
   ],
   "source": [
    "# Use one hot encoding to encode the categorical feature Sales Channel as it contains 4 categories of data\n",
    "df = pd.get_dummies(df, drop_first= True, dtype=\"int\")\n",
    "# Sanity check\n",
    "df.head()"
   ]
  },
  {
   "cell_type": "code",
   "execution_count": 6,
   "id": "a7903735-9f39-410d-9c1e-46288d430724",
   "metadata": {},
   "outputs": [],
   "source": [
    "# Separate the input and output features for train the model\n",
    "X = df.drop(\"Unit Price\", axis= 1)\n",
    "y = df[\"Unit Price\"]"
   ]
  },
  {
   "cell_type": "code",
   "execution_count": 7,
   "id": "a5edf374-fb59-4276-8e57-af314779ee94",
   "metadata": {},
   "outputs": [],
   "source": [
    "# Split the data to training and testing purpose\n",
    "X_train, X_test, y_train, y_test = train_test_split(X, y, test_size= 0.2, random_state= 42)"
   ]
  },
  {
   "cell_type": "code",
   "execution_count": 8,
   "id": "573d5cb3-5bc6-4ac4-a730-97ea0962d5ad",
   "metadata": {},
   "outputs": [],
   "source": [
    "# Standardize the data by scaling\n",
    "scaler = StandardScaler()\n",
    "X_train_s = scaler.fit_transform(X_train)\n",
    "X_test_s = scaler.transform(X_test)"
   ]
  },
  {
   "cell_type": "markdown",
   "id": "9a5c6316-f7f1-4bdf-8d64-b68c012c48f2",
   "metadata": {},
   "source": [
    "### Model Training and Evaluation\n",
    "\n",
    "- Train the model with training dataset so that it can learn the pattern of the data.\n",
    "- Evaluate the performance of the trained model with testing data using different evaluation metrics"
   ]
  },
  {
   "cell_type": "code",
   "execution_count": 24,
   "id": "eba3c12c-89fc-4af6-b43e-e6cdd47700fe",
   "metadata": {},
   "outputs": [],
   "source": [
    "# Function to train the model and print evaluation metrics\n",
    "def train_evaluate(model):\n",
    "    # Train the data\n",
    "    model.fit(X_train, y_train)\n",
    "\n",
    "    # Make prediction on training and testing data for evaluation\n",
    "    y_train_pred = model.predict(X_train)\n",
    "    y_test_pred = model.predict(X_test)\n",
    "\n",
    "    # Print Evaluation Metrics\n",
    "    print(\"=\" * 60)\n",
    "    print(\"EVALUATION METRICS FOR TRAINING DATA\")\n",
    "    print(\"=\" * 60)\n",
    "    print(f\"Accuracy: {r2_score(y_train, y_train_pred)}\")\n",
    "    print(f\"Mean Absolute Error(MAE): {mean_absolute_error(y_train, y_train_pred): 0.2f}\")\n",
    "    print(f\"Mean Squared Error(MAE): {mean_squared_error(y_train, y_train_pred):0.2f}\")\n",
    "    print(f\"Root Mean Squared Error(RMAE): {np.sqrt(mean_squared_error(y_train, y_train_pred)):0.2f}\")\n",
    "    print(\"=\" * 60)\n",
    "    print(\"EVALUATION METRICS FOR TESTING DATA\")\n",
    "    print(\"=\" * 60)\n",
    "    print(f\"Accuracy: {r2_score(y_test, y_test_pred)}\")\n",
    "    print(f\"Mean Absolute Error(MAE): {mean_absolute_error(y_test, y_test_pred): 0.2f}\")\n",
    "    print(f\"Mean Squared Error(MAE): {mean_squared_error(y_test, y_test_pred):0.2f}\")\n",
    "    print(f\"Root Mean Squared Error(RMAE): {np.sqrt(mean_squared_error(y_test, y_test_pred)):0.2f}\")"
   ]
  },
  {
   "cell_type": "code",
   "execution_count": 28,
   "id": "3ad142d5-aeff-4ae8-a71d-75e1d1965be1",
   "metadata": {},
   "outputs": [
    {
     "name": "stdout",
     "output_type": "stream",
     "text": [
      "============================================================\n",
      "EVALUATION METRICS FOR TRAINING DATA\n",
      "============================================================\n",
      "Accuracy: 0.6480893215667118\n",
      "Mean Absolute Error(MAE):  642.38\n",
      "Mean Squared Error(MAE): 980214.30\n",
      "Root Mean Squared Error(RMAE): 990.06\n",
      "============================================================\n",
      "EVALUATION METRICS FOR TESTING DATA\n",
      "============================================================\n",
      "Accuracy: 0.6436295574727884\n",
      "Mean Absolute Error(MAE):  646.34\n",
      "Mean Squared Error(MAE): 1016480.90\n",
      "Root Mean Squared Error(RMAE): 1008.21\n"
     ]
    }
   ],
   "source": [
    "# Try SVM Regressor model\n",
    "svr = SVR()\n",
    "train_evaluate(svr)"
   ]
  },
  {
   "cell_type": "markdown",
   "id": "5aff9a1d-aa2a-4603-ad49-3877c0e6659c",
   "metadata": {},
   "source": [
    "### Key Findings\n",
    "\n",
    "- The **accuracy** values are very similar for both the training and testing data, which indicates that the model is generalizing well. It isn’t overfitting (which would result in much higher accuracy on training data than testing data), but the overall accuracy is somewhat moderate. A **64%** accuracy indicates that the model is able to correctly predict about **64%** of the time. Depending on the context of the dataset (for example, whether it's a very complex dataset), this might be acceptable or might suggest that the model can still be improved.\n",
    "- The **Mean Absolute Error(MAE)** represents the average absolute difference between predicted and actual values. The values here suggest that, on average, the model’s predictions are off by approximately **642-646** units. Since the MAE for both training and testing is very close, the model is not overfitting or underfitting too much, but the magnitude of the error indicates that predictions are consistently off by a relatively large amount.\n",
    "- The **Mean Squared Error(MSE)** gives more weight to larger errors due to squaring the differences, which means it’s more sensitive to outliers than MAE. The **large MSE** values suggest that there are some predictions where the model is making significantly large errors. These could potentially be **outliers** or cases where the model struggles to predict accurately.\n",
    "- The **Root Mean Squared Error(RMSE)** is the square root of MSE and represents the average error magnitude. This gives a value in the same units as the target variable, making it easier to interpret. Here, the RMSE values of **~990 and ~1008** indicate that on average, the model is making prediction errors of around **990-1008** units. Again, the fact that the training and testing RMSE are close indicates that the model's performance is consistent across both sets, but the absolute error is still quite high."
   ]
  },
  {
   "cell_type": "markdown",
   "id": "53acb996-695d-42f8-a3f6-63634100de85",
   "metadata": {},
   "source": [
    "### Model Optimization\n",
    "\n",
    "- Use cross validation to check the score by 5 separate split\n",
    "- Tune the different hyperparameter of the model with GridSearchCV to the best score with best hyperparameter set for the model. "
   ]
  },
  {
   "cell_type": "code",
   "execution_count": 29,
   "id": "7c45f6f8-9b34-40ae-9d6c-0162fd7e2974",
   "metadata": {},
   "outputs": [
    {
     "name": "stdout",
     "output_type": "stream",
     "text": [
      "Cross Validattion Score:  0.88\n"
     ]
    }
   ],
   "source": [
    "# Define KFold with 5 splits\n",
    "kf = KFold(n_splits= 5)\n",
    "\n",
    "# Define the SVM Regressor model\n",
    "svr_cv = SVR(C=0.1, epsilon=0.5, kernel=\"linear\")\n",
    "\n",
    "# Find cross validation score for each split\n",
    "cv_scores = cross_val_score(svr_cv, X, y, cv = kf)\n",
    "\n",
    "# Print the mean  score\n",
    "print(f\"Cross Validattion Score: {np.mean(cv_scores): 0.2f}\")"
   ]
  },
  {
   "cell_type": "code",
   "execution_count": 31,
   "id": "a46ce7e2-d9d9-4f1e-a6c6-828aac485f97",
   "metadata": {},
   "outputs": [],
   "source": [
    "#  Function to tune the hyperparameter\n",
    "def tune_hyperparameter(model, param_dict):\n",
    "    # Define GridSearchCV\n",
    "    gscv = GridSearchCV(\n",
    "        model,\n",
    "        param_grid= param_dict,\n",
    "        cv = 5,\n",
    "        verbose= 1,\n",
    "        scoring= \"r2\"\n",
    "    )\n",
    "\n",
    "    # Train model the different hyperparameter\n",
    "    gscv.fit(X, y)\n",
    "\n",
    "    # Print best score\n",
    "    print(f\"Best Score: {gscv.best_score_: 0.2f}\")\n",
    "\n",
    "    # Return best hyperparameter set\n",
    "    best_params = gscv.best_params_\n",
    "    return best_params"
   ]
  },
  {
   "cell_type": "code",
   "execution_count": 33,
   "id": "a25acf24-408f-43ca-92c0-d79b75c3256b",
   "metadata": {},
   "outputs": [
    {
     "name": "stdout",
     "output_type": "stream",
     "text": [
      "Fitting 5 folds for each of 2 candidates, totalling 10 fits\n",
      "Best Score:  0.88\n",
      "{'C': 0.1, 'epsilon': 0.6, 'kernel': 'linear'}\n"
     ]
    }
   ],
   "source": [
    "# Define hyperparameter dictionary for XGBoostRegressor\n",
    "param_dict = {\n",
    "    \"C\": [0.1],\n",
    "    \"epsilon\": [0.5, 0.6],\n",
    "    \"kernel\": [\"linear\"]\n",
    "}\n",
    "\n",
    "# Define SVM Regressor\n",
    "svr_ht = SVR()\n",
    "\n",
    "# Hyperpermeter tuning to get best hyperparameters\n",
    "best_params = tune_hyperparameter(svr_ht, param_dict)\n",
    "print(best_params)"
   ]
  },
  {
   "cell_type": "code",
   "execution_count": 34,
   "id": "3498e9fc-c422-4591-9292-3e36a236fdf9",
   "metadata": {},
   "outputs": [
    {
     "name": "stdout",
     "output_type": "stream",
     "text": [
      "============================================================\n",
      "EVALUATION METRICS FOR TRAINING DATA\n",
      "============================================================\n",
      "Accuracy: 0.8831461255420643\n",
      "Mean Absolute Error(MAE):  390.29\n",
      "Mean Squared Error(MAE): 325485.55\n",
      "Root Mean Squared Error(RMAE): 570.51\n",
      "============================================================\n",
      "EVALUATION METRICS FOR TESTING DATA\n",
      "============================================================\n",
      "Accuracy: 0.8755349155964015\n",
      "Mean Absolute Error(MAE):  403.20\n",
      "Mean Squared Error(MAE): 355013.67\n",
      "Root Mean Squared Error(RMAE): 595.83\n"
     ]
    }
   ],
   "source": [
    "# Train the model with best huperparameters\n",
    "model = SVR(**best_params)\n",
    "train_evaluate(model)"
   ]
  },
  {
   "cell_type": "markdown",
   "id": "2d3e46cb-af04-4611-a20c-5d552e3e5704",
   "metadata": {},
   "source": [
    "### Conclution\n",
    "\n",
    "- **Accuracy Improvement**: The accuracy increased to around **88%**, a substantial improvement. This suggests that after hyperparameter tuning, the model is much better at making accurate predictions, indicating it has now captured more useful patterns in the data.\n",
    "- **Error Reduction**:\n",
    "  - **Mean Absolute Error(MAE)**: The MAE represents the average magnitude of errors. A reduction from **~642 to ~390** shows that the model's predictions are, on average, **250** units closer to the actual values compared to before tuning. This indicates a significant improvement in how closely the model is predicting sales or outcomes.\n",
    "  - **Mean Squared Error(MSE)**: The MSE gives more weight to larger errors, so the fact that it dropped so significantly **(~67% decrease for training and ~65% for testing)** indicates that the model is now making fewer large errors compared to before tuning.\n",
    "  - **Root Mean Squared Error(RMSE)**: The RMSE represents the average error magnitude in the same units as the target variable. A reduction from around **990-1008** to **~570-595** shows that the model's predictions have become much more precise, with errors decreasing by around **400** units on average."
   ]
  },
  {
   "cell_type": "code",
   "execution_count": 35,
   "id": "70a3c4ff-4876-4431-8cba-dfe5ee90ff59",
   "metadata": {},
   "outputs": [],
   "source": [
    "#  Save the model\n",
    "svm_path = os.path.join(model_path, \"svm_reg_rsp.pkl\")\n",
    "with open(svm_path, \"wb\") as svm_file:\n",
    "    pickle.dump(model, svm_file)"
   ]
  },
  {
   "cell_type": "code",
   "execution_count": null,
   "id": "d2b02d9c-c20d-47d4-82f0-5b21bf9d278a",
   "metadata": {},
   "outputs": [],
   "source": []
  }
 ],
 "metadata": {
  "kernelspec": {
   "display_name": "Python 3 (ipykernel)",
   "language": "python",
   "name": "python3"
  },
  "language_info": {
   "codemirror_mode": {
    "name": "ipython",
    "version": 3
   },
   "file_extension": ".py",
   "mimetype": "text/x-python",
   "name": "python",
   "nbconvert_exporter": "python",
   "pygments_lexer": "ipython3",
   "version": "3.11.9"
  },
  "widgets": {
   "application/vnd.jupyter.widget-state+json": {
    "state": {},
    "version_major": 2,
    "version_minor": 0
   }
  }
 },
 "nbformat": 4,
 "nbformat_minor": 5
}
